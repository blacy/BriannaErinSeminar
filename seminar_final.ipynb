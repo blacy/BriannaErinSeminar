{
 "cells": [
  {
   "cell_type": "markdown",
   "metadata": {},
   "source": [
    "Shallow water equations in one dimension (x): <br /> \n",
    "$\\partial_t (h) + \\partial_x (hu) = 0$ <br /> \n",
    "$\\partial_t (hu) + \\partial_x (hu^2 + \\frac{1}{2}gh^2) = 0$ <br /> \n",
    "where,<br /> \n",
    "$h(x,t)$ = depth of constant density fluid <br /> \n",
    "$u(x,t)$ = velocity of constant density fluid  <br /> \n",
    "$g$ is the acceleration of gravity, assumed constant <br /> \n",
    "\n",
    "\n",
    "We can write the shallow water equations in the formalism of Jeremy's lecture 1 as follows : <br />  \n",
    "\n",
    "$\\partial_t \\bf{q} + \\bf{W} \\cdot \\partial_x \\bf{q} = \\bf{s}$ <br /> \n",
    "\n",
    "$\\bf{q} =\\begin{bmatrix}\n",
    "    h\\\\\n",
    "    hu \\\\\n",
    "\\end{bmatrix}\n",
    "$ <br />  \n",
    "\n",
    "\n",
    "$\\bf{W} = \\begin{bmatrix}\n",
    "    0&1\\\\\n",
    "    gh-u^2&2u \\\\\n",
    "\\end{bmatrix} \n",
    "$<br />\n",
    "\n",
    "$\\bf{s} =\\begin{bmatrix}\n",
    "    0\\\\\n",
    "    0\\\\\n",
    "\\end{bmatrix}\n",
    "$ <br />\n",
    "\n",
    "\n",
    "Treating things as a small perturbation against a constant background we seek $\\delta \\bf{q}$ which satisfy the equation:<br />\n",
    "$\\frac{\\partial \\delta \\bf{q}}{\\partial t} = - \\bf{W}_0 \\cdot \\frac{\\partial \\delta \\bf{q}}{\\partial x}$ <br />\n",
    "\n",
    "Non trivial solutions will have the form $\\delta \\bf{q}$ $\\propto e^{ikx-wt}$ with \"characterisitc velocities\" $k/w$ as eigen values of $\\bf{W}_0$ . In the case of the shallow water equations, these are $V_-$ = $u - \\sqrt{gh}$ and $V_+$ = $u + \\sqrt{gh}$ . <br />\n",
    "\n",
    "The corresponding eigen-vectors are: \n"
   ]
  },
  {
   "cell_type": "code",
   "execution_count": null,
   "metadata": {},
   "outputs": [],
   "source": []
  }
 ],
 "metadata": {
  "kernelspec": {
   "display_name": "Python 3",
   "language": "python",
   "name": "python3"
  },
  "language_info": {
   "codemirror_mode": {
    "name": "ipython",
    "version": 3
   },
   "file_extension": ".py",
   "mimetype": "text/x-python",
   "name": "python",
   "nbconvert_exporter": "python",
   "pygments_lexer": "ipython3",
   "version": "3.7.3"
  }
 },
 "nbformat": 4,
 "nbformat_minor": 2
}
