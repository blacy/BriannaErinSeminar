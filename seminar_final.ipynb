{
 "cells": [
  {
   "cell_type": "markdown",
   "metadata": {},
   "source": [
    "# Math\n",
    "Shallow water equations in one dimension (x): <br /> \n",
    "$\\partial_t (h) + \\partial_x (hu) = 0$ <br /> \n",
    "$\\partial_t (hu) + \\partial_x (hu^2 + \\frac{1}{2}gh^2) = 0$ <br /> \n",
    "where,<br /> \n",
    "$h(x,t)$ = depth of constant density fluid <br /> \n",
    "$u(x,t)$ = velocity of constant density fluid  <br /> \n",
    "$g$ is the acceleration of gravity, assumed constant <br /> \n",
    "\n",
    "\n",
    "We can write the shallow water equations in the formalism of Jeremy's lecture 1 as follows : <br />  \n",
    "\n",
    "$\\partial_t \\bf{q} + \\bf{W} \\cdot \\partial_x \\bf{q} = \\bf{s}$ <br /> \n",
    "\n",
    "$\\bf{q} =\\begin{bmatrix}\n",
    "    h\\\\\n",
    "    hu \\\\\n",
    "\\end{bmatrix}\n",
    "$ <br />  \n",
    "\n",
    "\n",
    "$\\bf{W} = \\begin{bmatrix}\n",
    "    0&1\\\\\n",
    "    gh-u^2&2u \\\\\n",
    "\\end{bmatrix} \n",
    "$<br />\n",
    "\n",
    "$\\bf{s} =\\begin{bmatrix}\n",
    "    0\\\\\n",
    "    0\\\\\n",
    "\\end{bmatrix}\n",
    "$ <br />\n",
    "\n",
    "\n",
    "Treating things as a small perturbation against a constant background we seek $\\delta \\bf{q}$ which satisfy the equation:<br />\n",
    "$\\frac{\\partial \\delta \\bf{q}}{\\partial t} = - \\bf{W}_0 \\cdot \\frac{\\partial \\delta \\bf{q}}{\\partial x}$ <br />\n",
    "\n",
    "Non trivial solutions will have the form $\\delta \\bf{q}$ $\\propto e^{ikx-wt}$ with \"characterisitc velocities\" $k/w$ as eigen values of $\\bf{W}_0$ . In the case of the shallow water equations, these are $V_-$ = $u - \\sqrt{gh}$ and $V_+$ = $u + \\sqrt{gh}$ . <br />\n",
    "\n",
    "The corresponding eigen-vectors are: <br />\n",
    "$\\bf{r_-} = \\begin{bmatrix}\n",
    "    1\\\\\n",
    "    u - \\sqrt{gh} \\\\\n",
    "\\end{bmatrix}\n",
    "$ <br />\n",
    "\n",
    "$\\bf{r_+} = \\begin{bmatrix}\n",
    "    1\\\\\n",
    "    u + \\sqrt{gh} \\\\\n",
    "\\end{bmatrix}\n",
    "$ <br />"
   ]
  },
  {
   "cell_type": "markdown",
   "metadata": {},
   "source": [
    "A shockwave is the discontinuous solutions to the Riemann Problem. It forms in a nonlinear system of equations, for which the Jump Conditions are: <br />\n",
    "$s(q_* - q) = f(q_*) - f(q)$\n",
    "<br />\n",
    "\n",
    "When the shallow water equations are plugged into the jump conditions, the system of algebraic equations are (Rankine-Hugoniot condtions):\n",
    "$s(h_* - h) = h_*u_* - hu \\\\\n",
    "s(h_*q_* - hu) = h_*u+*^2 - hu^2 + \\frac{1}{2}g(h_*^2 - h^2)$\n",
    "\n",
    "Solving for the unknowns, the shockwave solution is: <br />\n",
    "$u(h) = u_* \\pm (h_* - h)\\sqrt{\\frac{g}{2}(\\frac{1}{h} + \\frac{1}{h_*})} \\\\\n",
    "s(h) = (h_*u_* - hu)/(h_* - h)$"
   ]
  },
  {
   "cell_type": "markdown",
   "metadata": {},
   "source": [
    "The general Riemann Solver for the Shallow Water Equations is: <br />\n",
    "\n",
    "$\\phi_-(h) =\\begin{cases}\n",
    "    u_- + 2(\\sqrt{gh_-} - \\sqrt{gh}),& \\text{if } h\\lt h_-\\\\\n",
    "    u_- - (h-h_-)\\sqrt{\\frac{g}{2}(\\frac{1}{h} + \\frac{1}{h_-})}, & \\text{if } h\\gt h_-\n",
    "\\end{cases}\n",
    "$ <br />\n",
    "\n",
    "$\\phi_+(h) =\\begin{cases}\n",
    "    u_+ - 2(\\sqrt{gh_+} - \\sqrt{gh}),& \\text{if } h\\lt h_+\\\\\n",
    "    u_+ + (h-h_+)\\sqrt{\\frac{g}{2}(\\frac{1}{h} + \\frac{1}{h_+})}, & \\text{if } h\\gt h_+\n",
    "\\end{cases}\n",
    "$ <br />"
   ]
  },
  {
   "cell_type": "markdown",
   "metadata": {},
   "source": [
    "# Some Notes\n",
    "\"A Riemann problem is a specific initial value problem composed of a conservation equation together with piecewise constant initial data which has a single discontinuity in the domain of interest.\" -wikipedia\n",
    "\n",
    "\"For a first-order PDE (partial differential equation), the method of characteristics discovers curves (called characteristic curves or just characteristics) along which the PDE becomes an ordinary differential equation (ODE). Once the ODE is found, it can be solved along the characteristic curves and transformed into a solution for the original PDE.\"\n",
    "\n",
    "\"The Sod shock tube problem, named after Gary A. Sod, is a common test for the accuracy of computational fluid codes, like Riemann solvers, and was heavily investigated by Sod in 1978.\n",
    "\n",
    "The test consists of a one-dimensional Riemann problem with the following parameters, for left and right states of an ideal gas\n",
    "\n",
    "$\\left( \\begin{array}{c}\\rho_L\\\\P_L\\\\v_L\\end{array}\\right)=\\left( \\begin{array}{c}1.0\\\\1.0\\\\0.0\\end{array} \\right),$ \n",
    "\n",
    "$\\left( \\begin{array}{c}\\rho_R\\\\P_R\\\\v_R\\end{array}\\right)=\\left( \\begin{array}{c}0.125\\\\0.1\\\\0.0\\end{array}\\right)$\n",
    "\n",
    "The time evolution of this problem can be described by solving the Euler equations, which leads to three characteristics, describing the propagation speed of the various regions of the system. Namely the rarefaction wave, the contact discontinuity and the shock discontinuity. If this is solved numerically, one can test against the analytical solution, and get information how well a code captures and resolves shocks and contact discontinuities and reproduce the correct density profile of the rarefaction wave.\n",
    "\""
   ]
  },
  {
   "cell_type": "code",
   "execution_count": null,
   "metadata": {},
   "outputs": [],
   "source": [
    "# Shock tube initial conditions:\n",
    "\n"
   ]
  }
 ],
 "metadata": {
  "kernelspec": {
   "display_name": "Python 3",
   "language": "python",
   "name": "python3"
  },
  "language_info": {
   "codemirror_mode": {
    "name": "ipython",
    "version": 3
   },
   "file_extension": ".py",
   "mimetype": "text/x-python",
   "name": "python",
   "nbconvert_exporter": "python",
   "pygments_lexer": "ipython3",
   "version": "3.6.5"
  }
 },
 "nbformat": 4,
 "nbformat_minor": 2
}
